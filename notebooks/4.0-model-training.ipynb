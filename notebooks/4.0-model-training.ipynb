{
 "cells": [
  {
   "cell_type": "markdown",
   "id": "705f24eb",
   "metadata": {},
   "source": [
    "# Model Training and Evaluation for Credit Risk\n",
    "\n",
    "**Short Description**: Trains and evaluates models to predict credit risk using the proxy variable. Prepares for deployment in Task 6.\n",
    "\n",
    "This notebook loads features from `data/processed/customer_features_with_proxy.csv`, trains Logistic Regression and Gradient Boosting models on the `RiskCluster` proxy variable, evaluates performance, and saves the best model.\n"
   ]
  },
  {
   "cell_type": "markdown",
   "id": "f7caf97b",
   "metadata": {},
   "source": [
    "## 1. Load Libraries and Data\n",
    "\n",
    "**Short Description**: Sets up tools and loads feature data with proxy variable.\n",
    "\n",
    "Load libraries for modeling and evaluation. Load the dataset with the proxy variable and verify integrity.\n"
   ]
  },
  {
   "cell_type": "code",
   "execution_count": 1,
   "id": "7f239fae",
   "metadata": {
    "vscode": {
     "languageId": "plaintext"
    }
   },
   "outputs": [
    {
     "name": "stdout",
     "output_type": "stream",
     "text": [
      "Data Loaded:\n"
     ]
    },
    {
     "data": {
      "text/html": [
       "<div>\n",
       "<style scoped>\n",
       "    .dataframe tbody tr th:only-of-type {\n",
       "        vertical-align: middle;\n",
       "    }\n",
       "\n",
       "    .dataframe tbody tr th {\n",
       "        vertical-align: top;\n",
       "    }\n",
       "\n",
       "    .dataframe thead th {\n",
       "        text-align: right;\n",
       "    }\n",
       "</style>\n",
       "<table border=\"1\" class=\"dataframe\">\n",
       "  <thead>\n",
       "    <tr style=\"text-align: right;\">\n",
       "      <th></th>\n",
       "      <th>LogAvgTransactionAmount</th>\n",
       "      <th>FraudResult</th>\n",
       "      <th>Monetary</th>\n",
       "      <th>Freq_Airtime</th>\n",
       "      <th>Recency</th>\n",
       "      <th>NightRatio</th>\n",
       "      <th>Frequency</th>\n",
       "      <th>AvgTransactionAmount</th>\n",
       "      <th>Freq_FinancialServices</th>\n",
       "      <th>CustomerId</th>\n",
       "      <th>LogMonetary</th>\n",
       "      <th>RiskCluster</th>\n",
       "      <th>RiskLevel</th>\n",
       "    </tr>\n",
       "  </thead>\n",
       "  <tbody>\n",
       "    <tr>\n",
       "      <th>0</th>\n",
       "      <td>12.936039</td>\n",
       "      <td>0</td>\n",
       "      <td>-10000.0</td>\n",
       "      <td>0.0</td>\n",
       "      <td>84.0</td>\n",
       "      <td>0.000000</td>\n",
       "      <td>1.0</td>\n",
       "      <td>-10000.000000</td>\n",
       "      <td>1.0</td>\n",
       "      <td>CustomerId_1</td>\n",
       "      <td>18.468423</td>\n",
       "      <td>0</td>\n",
       "      <td>Low</td>\n",
       "    </tr>\n",
       "    <tr>\n",
       "      <th>1</th>\n",
       "      <td>12.936039</td>\n",
       "      <td>0</td>\n",
       "      <td>-10000.0</td>\n",
       "      <td>0.0</td>\n",
       "      <td>84.0</td>\n",
       "      <td>0.000000</td>\n",
       "      <td>1.0</td>\n",
       "      <td>-10000.000000</td>\n",
       "      <td>1.0</td>\n",
       "      <td>CustomerId_10</td>\n",
       "      <td>18.468423</td>\n",
       "      <td>0</td>\n",
       "      <td>Low</td>\n",
       "    </tr>\n",
       "    <tr>\n",
       "      <th>2</th>\n",
       "      <td>12.969217</td>\n",
       "      <td>0</td>\n",
       "      <td>20000.0</td>\n",
       "      <td>3.0</td>\n",
       "      <td>90.0</td>\n",
       "      <td>0.000000</td>\n",
       "      <td>5.0</td>\n",
       "      <td>4000.000000</td>\n",
       "      <td>2.0</td>\n",
       "      <td>CustomerId_1001</td>\n",
       "      <td>18.468709</td>\n",
       "      <td>0</td>\n",
       "      <td>Low</td>\n",
       "    </tr>\n",
       "    <tr>\n",
       "      <th>3</th>\n",
       "      <td>12.960752</td>\n",
       "      <td>0</td>\n",
       "      <td>4225.0</td>\n",
       "      <td>6.0</td>\n",
       "      <td>26.0</td>\n",
       "      <td>0.181818</td>\n",
       "      <td>11.0</td>\n",
       "      <td>384.090909</td>\n",
       "      <td>5.0</td>\n",
       "      <td>CustomerId_1002</td>\n",
       "      <td>18.468558</td>\n",
       "      <td>0</td>\n",
       "      <td>Low</td>\n",
       "    </tr>\n",
       "    <tr>\n",
       "      <th>4</th>\n",
       "      <td>12.967662</td>\n",
       "      <td>0</td>\n",
       "      <td>20000.0</td>\n",
       "      <td>3.0</td>\n",
       "      <td>12.0</td>\n",
       "      <td>0.000000</td>\n",
       "      <td>6.0</td>\n",
       "      <td>3333.333333</td>\n",
       "      <td>3.0</td>\n",
       "      <td>CustomerId_1003</td>\n",
       "      <td>18.468709</td>\n",
       "      <td>0</td>\n",
       "      <td>Low</td>\n",
       "    </tr>\n",
       "  </tbody>\n",
       "</table>\n",
       "</div>"
      ],
      "text/plain": [
       "   LogAvgTransactionAmount  FraudResult  Monetary  Freq_Airtime  Recency  \\\n",
       "0                12.936039            0  -10000.0           0.0     84.0   \n",
       "1                12.936039            0  -10000.0           0.0     84.0   \n",
       "2                12.969217            0   20000.0           3.0     90.0   \n",
       "3                12.960752            0    4225.0           6.0     26.0   \n",
       "4                12.967662            0   20000.0           3.0     12.0   \n",
       "\n",
       "   NightRatio  Frequency  AvgTransactionAmount  Freq_FinancialServices  \\\n",
       "0    0.000000        1.0         -10000.000000                     1.0   \n",
       "1    0.000000        1.0         -10000.000000                     1.0   \n",
       "2    0.000000        5.0           4000.000000                     2.0   \n",
       "3    0.181818       11.0            384.090909                     5.0   \n",
       "4    0.000000        6.0           3333.333333                     3.0   \n",
       "\n",
       "        CustomerId  LogMonetary  RiskCluster RiskLevel  \n",
       "0     CustomerId_1    18.468423            0       Low  \n",
       "1    CustomerId_10    18.468423            0       Low  \n",
       "2  CustomerId_1001    18.468709            0       Low  \n",
       "3  CustomerId_1002    18.468558            0       Low  \n",
       "4  CustomerId_1003    18.468709            0       Low  "
      ]
     },
     "metadata": {},
     "output_type": "display_data"
    },
    {
     "name": "stdout",
     "output_type": "stream",
     "text": [
      "Columns: ['LogAvgTransactionAmount', 'FraudResult', 'Monetary', 'Freq_Airtime', 'Recency', 'NightRatio', 'Frequency', 'AvgTransactionAmount', 'Freq_FinancialServices', 'CustomerId', 'LogMonetary', 'RiskCluster', 'RiskLevel']\n"
     ]
    }
   ],
   "source": [
    "import pandas as pd\n",
    "import numpy as np\n",
    "from sklearn.model_selection import train_test_split\n",
    "from sklearn.linear_model import LogisticRegression\n",
    "from sklearn.ensemble import GradientBoostingClassifier\n",
    "from sklearn.metrics import accuracy_score, precision_score, recall_score, f1_score, confusion_matrix\n",
    "import seaborn as sns\n",
    "import matplotlib.pyplot as plt\n",
    "import joblib\n",
    "import os\n",
    "\n",
    "# Create folder for models\n",
    "os.makedirs('../models', exist_ok=True)\n",
    "\n",
    "# Load features with proxy\n",
    "data = pd.read_csv('../data/processed/customer_features_with_proxy.csv')\n",
    "print('Data Loaded:')\n",
    "display(data.head())\n",
    "print('Columns:', data.columns.tolist())\n"
   ]
  },
  {
   "cell_type": "markdown",
   "id": "d94bddd5",
   "metadata": {},
   "source": [
    "## 2. Prepare Data for Modeling\n",
    "\n",
    "**Short Description**: Splits data into train/test sets. Selects features and target.\n",
    "\n",
    "Use high-IV features and `RiskCluster` as the target. Split into training and testing sets.\n"
   ]
  },
  {
   "cell_type": "code",
   "execution_count": 2,
   "id": "d02e6c26",
   "metadata": {
    "vscode": {
     "languageId": "plaintext"
    }
   },
   "outputs": [
    {
     "name": "stdout",
     "output_type": "stream",
     "text": [
      "Missing Values in Features:\n"
     ]
    },
    {
     "data": {
      "text/plain": [
       "LogMonetary                0\n",
       "Frequency                  0\n",
       "LogAvgTransactionAmount    0\n",
       "NightRatio                 0\n",
       "Freq_FinancialServices     0\n",
       "Freq_Airtime               0\n",
       "dtype: int64"
      ]
     },
     "metadata": {},
     "output_type": "display_data"
    },
    {
     "name": "stdout",
     "output_type": "stream",
     "text": [
      "RiskCluster Distribution:\n"
     ]
    },
    {
     "data": {
      "text/plain": [
       "RiskCluster\n",
       "0    3656\n",
       "4      47\n",
       "2      37\n",
       "3       1\n",
       "1       1\n",
       "Name: count, dtype: int64"
      ]
     },
     "metadata": {},
     "output_type": "display_data"
    },
    {
     "name": "stdout",
     "output_type": "stream",
     "text": [
      "Training Set Shape: (2993, 6)\n",
      "Testing Set Shape: (749, 6)\n",
      "Target Distribution in Train:\n"
     ]
    },
    {
     "data": {
      "text/plain": [
       "RiskCluster\n",
       "0    0.977614\n",
       "4    0.012028\n",
       "2    0.009689\n",
       "3    0.000334\n",
       "1    0.000334\n",
       "Name: proportion, dtype: float64"
      ]
     },
     "metadata": {},
     "output_type": "display_data"
    },
    {
     "name": "stdout",
     "output_type": "stream",
     "text": [
      "Target Distribution in Test:\n"
     ]
    },
    {
     "data": {
      "text/plain": [
       "RiskCluster\n",
       "0    0.974633\n",
       "4    0.014686\n",
       "2    0.010681\n",
       "Name: proportion, dtype: float64"
      ]
     },
     "metadata": {},
     "output_type": "display_data"
    }
   ],
   "source": [
    "# Select features and target\n",
    "features = ['LogMonetary', 'Frequency', 'LogAvgTransactionAmount', 'NightRatio', 'Freq_FinancialServices', 'Freq_Airtime']\n",
    "X = data[features]\n",
    "y = data['RiskCluster']\n",
    "\n",
    "# Verify no missing values\n",
    "print('Missing Values in Features:')\n",
    "display(X.isnull().sum())\n",
    "X = X.fillna(0)\n",
    "\n",
    "#Check class distribution\n",
    "print('RiskCluster Distribution:')\n",
    "display(y.value_counts())\n",
    "\n",
    "# Split data without stratification\n",
    "X_train, X_test, y_train, y_test = train_test_split(X, y, test_size=0.2, random_state=42)\n",
    "\n",
    "\n",
    "\n",
    "# Split data\n",
    "#X_train, X_test, y_train, y_test = train_test_split(X, y, test_size=0.2, random_state=42, stratify=y)\n",
    "\n",
    "print('Training Set Shape:', X_train.shape)\n",
    "print('Testing Set Shape:', X_test.shape)\n",
    "print('Target Distribution in Train:')\n",
    "display(y_train.value_counts(normalize=True))\n",
    "\n",
    "print('Target Distribution in Test:')\n",
    "display(y_test.value_counts(normalize=True))"
   ]
  },
  {
   "cell_type": "markdown",
   "id": "13188f30",
   "metadata": {},
   "source": [
    "## 3. Train Logistic Regression\n",
    "\n",
    "**Short Description**: Trains an interpretable model. Evaluates performance.\n",
    "\n",
    "Train a Logistic Regression model and compute evaluation metrics (accuracy, precision, recall, F1-score).\n"
   ]
  },
  {
   "cell_type": "code",
   "execution_count": 3,
   "id": "0b83a5cc",
   "metadata": {
    "vscode": {
     "languageId": "plaintext"
    }
   },
   "outputs": [
    {
     "name": "stdout",
     "output_type": "stream",
     "text": [
      "Logistic Regression Metrics (Overall):\n"
     ]
    },
    {
     "data": {
      "text/plain": [
       "Accuracy                0.998665\n",
       "Precision (Weighted)    0.998667\n",
       "Recall (Weighted)       0.998665\n",
       "F1-Score (Weighted)     0.998634\n",
       "dtype: float64"
      ]
     },
     "metadata": {},
     "output_type": "display_data"
    },
    {
     "name": "stdout",
     "output_type": "stream",
     "text": [
      "Logistic Regression Per-Class Metrics:\n"
     ]
    },
    {
     "data": {
      "text/html": [
       "<div>\n",
       "<style scoped>\n",
       "    .dataframe tbody tr th:only-of-type {\n",
       "        vertical-align: middle;\n",
       "    }\n",
       "\n",
       "    .dataframe tbody tr th {\n",
       "        vertical-align: top;\n",
       "    }\n",
       "\n",
       "    .dataframe thead th {\n",
       "        text-align: right;\n",
       "    }\n",
       "</style>\n",
       "<table border=\"1\" class=\"dataframe\">\n",
       "  <thead>\n",
       "    <tr style=\"text-align: right;\">\n",
       "      <th></th>\n",
       "      <th>Class</th>\n",
       "      <th>Precision</th>\n",
       "      <th>Recall</th>\n",
       "      <th>F1-Score</th>\n",
       "    </tr>\n",
       "  </thead>\n",
       "  <tbody>\n",
       "    <tr>\n",
       "      <th>0</th>\n",
       "      <td>0</td>\n",
       "      <td>0.998632</td>\n",
       "      <td>1.000000</td>\n",
       "      <td>0.999316</td>\n",
       "    </tr>\n",
       "    <tr>\n",
       "      <th>1</th>\n",
       "      <td>2</td>\n",
       "      <td>1.000000</td>\n",
       "      <td>1.000000</td>\n",
       "      <td>1.000000</td>\n",
       "    </tr>\n",
       "    <tr>\n",
       "      <th>2</th>\n",
       "      <td>4</td>\n",
       "      <td>1.000000</td>\n",
       "      <td>0.909091</td>\n",
       "      <td>0.952381</td>\n",
       "    </tr>\n",
       "  </tbody>\n",
       "</table>\n",
       "</div>"
      ],
      "text/plain": [
       "   Class  Precision    Recall  F1-Score\n",
       "0      0   0.998632  1.000000  0.999316\n",
       "1      2   1.000000  1.000000  1.000000\n",
       "2      4   1.000000  0.909091  0.952381"
      ]
     },
     "metadata": {},
     "output_type": "display_data"
    },
    {
     "data": {
      "image/png": "[encoded data removed]",
      "text/plain": [
       "<Figure size 800x600 with 2 Axes>"
      ]
     },
     "metadata": {},
     "output_type": "display_data"
    }
   ],
   "source": [
    "from sklearn.preprocessing import StandardScaler\n",
    "\n",
    "# Scale features\n",
    "scaler = StandardScaler()\n",
    "X_train_scaled = scaler.fit_transform(X_train)\n",
    "X_test_scaled = scaler.transform(X_test)\n",
    "\n",
    "# Train Logistic Regression\n",
    "lr_model = LogisticRegression(random_state=42, max_iter=2000)\n",
    "lr_model.fit(X_train_scaled, y_train)\n",
    "\n",
    "# Predict and evaluate\n",
    "y_pred_lr = lr_model.predict(X_test_scaled)\n",
    "lr_metrics = {\n",
    "    'Accuracy': accuracy_score(y_test, y_pred_lr),\n",
    "    'Precision (Weighted)': precision_score(y_test, y_pred_lr, average='weighted'),\n",
    "    'Recall (Weighted)': recall_score(y_test, y_pred_lr, average='weighted'),\n",
    "    'F1-Score (Weighted)': f1_score(y_test, y_pred_lr, average='weighted')\n",
    "}\n",
    "\n",
    "# Per-class metrics\n",
    "unique_classes = np.unique(y_test)\n",
    "per_class_precision = precision_score(y_test, y_pred_lr, average=None, labels=unique_classes)\n",
    "per_class_recall = recall_score(y_test, y_pred_lr, average=None, labels=unique_classes)\n",
    "per_class_f1 = f1_score(y_test, y_pred_lr, average=None, labels=unique_classes)\n",
    "\n",
    "per_class_metrics = pd.DataFrame({\n",
    "    'Class': unique_classes,\n",
    "    'Precision': per_class_precision,\n",
    "    'Recall': per_class_recall,\n",
    "    'F1-Score': per_class_f1\n",
    "})\n",
    "\n",
    "print('Logistic Regression Metrics (Overall):')\n",
    "display(pd.Series(lr_metrics))\n",
    "print('Logistic Regression Per-Class Metrics:')\n",
    "display(per_class_metrics)\n",
    "\n",
    "# Confusion matrix\n",
    "cm_lr = confusion_matrix(y_test, y_pred_lr)\n",
    "plt.figure(figsize=(8, 6))\n",
    "sns.heatmap(cm_lr, annot=True, fmt='d', cmap='Blues')\n",
    "plt.title('Logistic Regression Confusion Matrix')\n",
    "plt.xlabel('Predicted')\n",
    "plt.ylabel('Actual')\n",
    "plt.show()\n"
   ]
  },
  {
   "cell_type": "markdown",
   "id": "5a6c7450",
   "metadata": {},
   "source": [
    "## 4. Train Gradient Boosting\n",
    "\n",
    "**Short Description**: Trains a complex model. Evaluates performance.\n",
    "\n",
    "Train a Gradient Boosting model and compute evaluation metrics.\n"
   ]
  },
  {
   "cell_type": "code",
   "execution_count": 4,
   "id": "415d4c59",
   "metadata": {
    "vscode": {
     "languageId": "plaintext"
    }
   },
   "outputs": [
    {
     "name": "stdout",
     "output_type": "stream",
     "text": [
      "Gradient Boosting Metrics (Overall):\n"
     ]
    },
    {
     "data": {
      "text/plain": [
       "Accuracy                1.0\n",
       "Precision (Weighted)    1.0\n",
       "Recall (Weighted)       1.0\n",
       "F1-Score (Weighted)     1.0\n",
       "dtype: float64"
      ]
     },
     "metadata": {},
     "output_type": "display_data"
    },
    {
     "name": "stdout",
     "output_type": "stream",
     "text": [
      "Gradient Boosting Per-Class Metrics:\n"
     ]
    },
    {
     "data": {
      "text/html": [
       "<div>\n",
       "<style scoped>\n",
       "    .dataframe tbody tr th:only-of-type {\n",
       "        vertical-align: middle;\n",
       "    }\n",
       "\n",
       "    .dataframe tbody tr th {\n",
       "        vertical-align: top;\n",
       "    }\n",
       "\n",
       "    .dataframe thead th {\n",
       "        text-align: right;\n",
       "    }\n",
       "</style>\n",
       "<table border=\"1\" class=\"dataframe\">\n",
       "  <thead>\n",
       "    <tr style=\"text-align: right;\">\n",
       "      <th></th>\n",
       "      <th>Class</th>\n",
       "      <th>Precision</th>\n",
       "      <th>Recall</th>\n",
       "      <th>F1-Score</th>\n",
       "    </tr>\n",
       "  </thead>\n",
       "  <tbody>\n",
       "    <tr>\n",
       "      <th>0</th>\n",
       "      <td>0</td>\n",
       "      <td>1.0</td>\n",
       "      <td>1.0</td>\n",
       "      <td>1.0</td>\n",
       "    </tr>\n",
       "    <tr>\n",
       "      <th>1</th>\n",
       "      <td>2</td>\n",
       "      <td>1.0</td>\n",
       "      <td>1.0</td>\n",
       "      <td>1.0</td>\n",
       "    </tr>\n",
       "    <tr>\n",
       "      <th>2</th>\n",
       "      <td>4</td>\n",
       "      <td>1.0</td>\n",
       "      <td>1.0</td>\n",
       "      <td>1.0</td>\n",
       "    </tr>\n",
       "  </tbody>\n",
       "</table>\n",
       "</div>"
      ],
      "text/plain": [
       "   Class  Precision  Recall  F1-Score\n",
       "0      0        1.0     1.0       1.0\n",
       "1      2        1.0     1.0       1.0\n",
       "2      4        1.0     1.0       1.0"
      ]
     },
     "metadata": {},
     "output_type": "display_data"
    },
    {
     "data": {
      "image/png": "[encoded data removed]",
      "text/plain": [
       "<Figure size 800x600 with 2 Axes>"
      ]
     },
     "metadata": {},
     "output_type": "display_data"
    }
   ],
   "source": [
    "# Train Gradient Boosting\n",
    "gb_model = GradientBoostingClassifier(random_state=42)\n",
    "gb_model.fit(X_train_scaled, y_train)\n",
    "\n",
    "# Predict and evaluate\n",
    "y_pred_gb = gb_model.predict(X_test_scaled)\n",
    "gb_metrics = {\n",
    "    'Accuracy': accuracy_score(y_test, y_pred_gb),\n",
    "    'Precision (Weighted)': precision_score(y_test, y_pred_gb, average='weighted', zero_division=0),\n",
    "    'Recall (Weighted)': recall_score(y_test, y_pred_gb, average='weighted', zero_division=0),\n",
    "    'F1-Score (Weighted)': f1_score(y_test, y_pred_gb, average='weighted', zero_division=0)\n",
    "}\n",
    "\n",
    "\n",
    "\n",
    "\n",
    "# Per-class metrics\n",
    "unique_classes = np.unique(y_test)\n",
    "per_class_precision = precision_score(y_test, y_pred_gb, average=None, labels=unique_classes, zero_division=0)\n",
    "per_class_recall = recall_score(y_test, y_pred_gb, average=None, labels=unique_classes, zero_division=0)\n",
    "per_class_f1 = f1_score(y_test, y_pred_gb, average=None, labels=unique_classes, zero_division=0)\n",
    "\n",
    "per_class_metrics = pd.DataFrame({\n",
    "    'Class': unique_classes,\n",
    "    'Precision': per_class_precision,\n",
    "    'Recall': per_class_recall,\n",
    "    'F1-Score': per_class_f1\n",
    "})\n",
    "\n",
    "\n",
    "\n",
    "\n",
    "print('Gradient Boosting Metrics (Overall):')\n",
    "display(pd.Series(gb_metrics))\n",
    "print('Gradient Boosting Per-Class Metrics:')\n",
    "display(per_class_metrics)\n",
    "\n",
    "\n",
    "\n",
    "\n",
    "\n",
    "# Confusion matrix\n",
    "cm_gb = confusion_matrix(y_test, y_pred_gb)\n",
    "plt.figure(figsize=(8, 6))\n",
    "sns.heatmap(cm_gb, annot=True, fmt='d', cmap='Blues')\n",
    "plt.title('Gradient Boosting Confusion Matrix')\n",
    "plt.xlabel('Predicted')\n",
    "plt.ylabel('Actual')\n",
    "plt.show()\n"
   ]
  },
  {
   "cell_type": "markdown",
   "id": "7bb154a3",
   "metadata": {},
   "source": [
    "## 5. Compare Models and Save Best\n",
    "\n",
    "**Short Description**: Selects the best model. Saves it for deployment.\n",
    "\n",
    "Compare model performance and save the best model based on F1-score.\n"
   ]
  },
  {
   "cell_type": "code",
   "execution_count": 5,
   "id": "b3e1295f",
   "metadata": {
    "vscode": {
     "languageId": "plaintext"
    }
   },
   "outputs": [
    {
     "name": "stdout",
     "output_type": "stream",
     "text": [
      "Model Comparison:\n"
     ]
    },
    {
     "data": {
      "text/html": [
       "<div>\n",
       "<style scoped>\n",
       "    .dataframe tbody tr th:only-of-type {\n",
       "        vertical-align: middle;\n",
       "    }\n",
       "\n",
       "    .dataframe tbody tr th {\n",
       "        vertical-align: top;\n",
       "    }\n",
       "\n",
       "    .dataframe thead th {\n",
       "        text-align: right;\n",
       "    }\n",
       "</style>\n",
       "<table border=\"1\" class=\"dataframe\">\n",
       "  <thead>\n",
       "    <tr style=\"text-align: right;\">\n",
       "      <th></th>\n",
       "      <th>Logistic Regression</th>\n",
       "      <th>Gradient Boosting</th>\n",
       "    </tr>\n",
       "  </thead>\n",
       "  <tbody>\n",
       "    <tr>\n",
       "      <th>Accuracy</th>\n",
       "      <td>0.998665</td>\n",
       "      <td>1.0</td>\n",
       "    </tr>\n",
       "    <tr>\n",
       "      <th>Precision (Weighted)</th>\n",
       "      <td>0.998667</td>\n",
       "      <td>1.0</td>\n",
       "    </tr>\n",
       "    <tr>\n",
       "      <th>Recall (Weighted)</th>\n",
       "      <td>0.998665</td>\n",
       "      <td>1.0</td>\n",
       "    </tr>\n",
       "    <tr>\n",
       "      <th>F1-Score (Weighted)</th>\n",
       "      <td>0.998634</td>\n",
       "      <td>1.0</td>\n",
       "    </tr>\n",
       "  </tbody>\n",
       "</table>\n",
       "</div>"
      ],
      "text/plain": [
       "                      Logistic Regression  Gradient Boosting\n",
       "Accuracy                         0.998665                1.0\n",
       "Precision (Weighted)             0.998667                1.0\n",
       "Recall (Weighted)                0.998665                1.0\n",
       "F1-Score (Weighted)              0.998634                1.0"
      ]
     },
     "metadata": {},
     "output_type": "display_data"
    },
    {
     "name": "stdout",
     "output_type": "stream",
     "text": [
      "Best Model (Gradient Boosting) saved to ../models/best_model.pkl\n"
     ]
    }
   ],
   "source": [
    "# Compare models\n",
    "metrics_df = pd.DataFrame({'Logistic Regression': lr_metrics, 'Gradient Boosting': gb_metrics})\n",
    "print('Model Comparison:')\n",
    "display(metrics_df)\n",
    "\n",
    "\n",
    "\n",
    "# Select best model (based on F1-score, handling NaN)\n",
    "lr_f1 = lr_metrics['F1-Score (Weighted)'] if not np.isnan(lr_metrics['F1-Score (Weighted)']) else -1\n",
    "gb_f1 = gb_metrics['F1-Score (Weighted)'] if not np.isnan(gb_metrics['F1-Score (Weighted)']) else -1\n",
    "best_model = lr_model if lr_f1 > gb_f1 else gb_model\n",
    "best_model_name = 'Logistic Regression' if lr_f1 > gb_f1 else 'Gradient Boosting'\n",
    "\n",
    "\n",
    "\n",
    "\n",
    "# Save best model\n",
    "joblib.dump(best_model, '../models/best_model.pkl')\n",
    "print(f'Best Model ({best_model_name}) saved to ../models/best_model.pkl')\n"
   ]
  },
  {
   "cell_type": "markdown",
   "id": "67777756",
   "metadata": {},
   "source": [
    "## 6. Key Findings\n",
    "\n",
    "**Short Description**: Summarizes model performance. Guides deployment in Task 6.\n",
    "\n",
    "Summarize insights from model training to guide Task 6:\n",
    "- Trained Logistic Regression and Gradient Boosting on `RiskCluster`.\n",
    "- Best model: [best_model_name] with F1-score [best_f1_score].\n",
    "- Logistic Regression provides interpretability; Gradient Boosting offers higher performance.\n",
    "- Saved best model to `models/best_model.pkl` for FastAPI deployment.\n",
    "- Next: Deploy model via FastAPI in Task 6.\n"
   ]
  },
  {
   "cell_type": "code",
   "execution_count": null,
   "id": "5d04dfd7-b842-4b27-b7c6-c8e4727e2a52",
   "metadata": {},
   "outputs": [],
   "source": []
  }
 ],
 "metadata": {
  "kernelspec": {
   "display_name": "Python 3 (ipykernel)",
   "language": "python",
   "name": "python3"
  },
  "language_info": {
   "codemirror_mode": {
    "name": "ipython",
    "version": 3
   },
   "file_extension": ".py",
   "mimetype": "text/x-python",
   "name": "python",
   "nbconvert_exporter": "python",
   "pygments_lexer": "ipython3",
   "version": "3.13.3"
  }
 },
 "nbformat": 4,
 "nbformat_minor": 5
}

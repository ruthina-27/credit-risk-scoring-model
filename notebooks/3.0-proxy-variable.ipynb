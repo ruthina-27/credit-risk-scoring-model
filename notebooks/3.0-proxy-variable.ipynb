{
 "cells": [
  {
   "cell_type": "markdown",
   "id": "44ed9e21",
   "metadata": {},
   "source": [
    "# Proxy Variable Creation for Credit Risk\n",
    "\n",
    "**Short Description**: Creates a proxy variable for default risk using K-means clustering on high-IV features. Prepares data for modeling in Task 5.\n",
    "\n",
    "This notebook loads features from `data/processed/customer_features.csv`, selects high-IV features (e.g., `LogMonetary_woe`, `Frequency_woe`), applies K-means clustering to create risk clusters, and saves the dataset with the proxy variable for Task 5.\n"
   ]
  },
  {
   "cell_type": "markdown",
   "id": "6d920890",
   "metadata": {},
   "source": [
    "## 1. Load Libraries and Data\n",
    "\n",
    "**Short Description**: Sets up tools and loads feature data. Prepares for clustering.\n",
    "\n",
    "Load libraries for clustering and load the feature dataset. Verify data integrity.\n"
   ]
  },
  {
   "cell_type": "code",
   "execution_count": 1,
   "id": "fd2e1ba0",
   "metadata": {
    "vscode": {
     "languageId": "plaintext"
    }
   },
   "outputs": [
    {
     "name": "stdout",
     "output_type": "stream",
     "text": [
      "Features Loaded:\n"
     ]
    },
    {
     "data": {
      "text/html": [
       "<div>\n",
       "<style scoped>\n",
       "    .dataframe tbody tr th:only-of-type {\n",
       "        vertical-align: middle;\n",
       "    }\n",
       "\n",
       "    .dataframe tbody tr th {\n",
       "        vertical-align: top;\n",
       "    }\n",
       "\n",
       "    .dataframe thead th {\n",
       "        text-align: right;\n",
       "    }\n",
       "</style>\n",
       "<table border=\"1\" class=\"dataframe\">\n",
       "  <thead>\n",
       "    <tr style=\"text-align: right;\">\n",
       "      <th></th>\n",
       "      <th>LogAvgTransactionAmount</th>\n",
       "      <th>FraudResult</th>\n",
       "      <th>Monetary</th>\n",
       "      <th>Freq_Airtime</th>\n",
       "      <th>Recency</th>\n",
       "      <th>NightRatio</th>\n",
       "      <th>Frequency</th>\n",
       "      <th>AvgTransactionAmount</th>\n",
       "      <th>Freq_FinancialServices</th>\n",
       "      <th>CustomerId</th>\n",
       "      <th>LogMonetary</th>\n",
       "    </tr>\n",
       "  </thead>\n",
       "  <tbody>\n",
       "    <tr>\n",
       "      <th>0</th>\n",
       "      <td>12.936039</td>\n",
       "      <td>0</td>\n",
       "      <td>-10000.0</td>\n",
       "      <td>0.0</td>\n",
       "      <td>84.0</td>\n",
       "      <td>0.000000</td>\n",
       "      <td>1.0</td>\n",
       "      <td>-10000.000000</td>\n",
       "      <td>1.0</td>\n",
       "      <td>CustomerId_1</td>\n",
       "      <td>18.468423</td>\n",
       "    </tr>\n",
       "    <tr>\n",
       "      <th>1</th>\n",
       "      <td>12.936039</td>\n",
       "      <td>0</td>\n",
       "      <td>-10000.0</td>\n",
       "      <td>0.0</td>\n",
       "      <td>84.0</td>\n",
       "      <td>0.000000</td>\n",
       "      <td>1.0</td>\n",
       "      <td>-10000.000000</td>\n",
       "      <td>1.0</td>\n",
       "      <td>CustomerId_10</td>\n",
       "      <td>18.468423</td>\n",
       "    </tr>\n",
       "    <tr>\n",
       "      <th>2</th>\n",
       "      <td>12.969217</td>\n",
       "      <td>0</td>\n",
       "      <td>20000.0</td>\n",
       "      <td>3.0</td>\n",
       "      <td>90.0</td>\n",
       "      <td>0.000000</td>\n",
       "      <td>5.0</td>\n",
       "      <td>4000.000000</td>\n",
       "      <td>2.0</td>\n",
       "      <td>CustomerId_1001</td>\n",
       "      <td>18.468709</td>\n",
       "    </tr>\n",
       "    <tr>\n",
       "      <th>3</th>\n",
       "      <td>12.960752</td>\n",
       "      <td>0</td>\n",
       "      <td>4225.0</td>\n",
       "      <td>6.0</td>\n",
       "      <td>26.0</td>\n",
       "      <td>0.181818</td>\n",
       "      <td>11.0</td>\n",
       "      <td>384.090909</td>\n",
       "      <td>5.0</td>\n",
       "      <td>CustomerId_1002</td>\n",
       "      <td>18.468558</td>\n",
       "    </tr>\n",
       "    <tr>\n",
       "      <th>4</th>\n",
       "      <td>12.967662</td>\n",
       "      <td>0</td>\n",
       "      <td>20000.0</td>\n",
       "      <td>3.0</td>\n",
       "      <td>12.0</td>\n",
       "      <td>0.000000</td>\n",
       "      <td>6.0</td>\n",
       "      <td>3333.333333</td>\n",
       "      <td>3.0</td>\n",
       "      <td>CustomerId_1003</td>\n",
       "      <td>18.468709</td>\n",
       "    </tr>\n",
       "  </tbody>\n",
       "</table>\n",
       "</div>"
      ],
      "text/plain": [
       "   LogAvgTransactionAmount  FraudResult  Monetary  Freq_Airtime  Recency  \\\n",
       "0                12.936039            0  -10000.0           0.0     84.0   \n",
       "1                12.936039            0  -10000.0           0.0     84.0   \n",
       "2                12.969217            0   20000.0           3.0     90.0   \n",
       "3                12.960752            0    4225.0           6.0     26.0   \n",
       "4                12.967662            0   20000.0           3.0     12.0   \n",
       "\n",
       "   NightRatio  Frequency  AvgTransactionAmount  Freq_FinancialServices  \\\n",
       "0    0.000000        1.0         -10000.000000                     1.0   \n",
       "1    0.000000        1.0         -10000.000000                     1.0   \n",
       "2    0.000000        5.0           4000.000000                     2.0   \n",
       "3    0.181818       11.0            384.090909                     5.0   \n",
       "4    0.000000        6.0           3333.333333                     3.0   \n",
       "\n",
       "        CustomerId  LogMonetary  \n",
       "0     CustomerId_1    18.468423  \n",
       "1    CustomerId_10    18.468423  \n",
       "2  CustomerId_1001    18.468709  \n",
       "3  CustomerId_1002    18.468558  \n",
       "4  CustomerId_1003    18.468709  "
      ]
     },
     "metadata": {},
     "output_type": "display_data"
    },
    {
     "name": "stdout",
     "output_type": "stream",
     "text": [
      "Feature Columns: ['LogAvgTransactionAmount', 'FraudResult', 'Monetary', 'Freq_Airtime', 'Recency', 'NightRatio', 'Frequency', 'AvgTransactionAmount', 'Freq_FinancialServices', 'CustomerId', 'LogMonetary']\n"
     ]
    }
   ],
   "source": [
    "import pandas as pd\n",
    "import numpy as np\n",
    "from sklearn.preprocessing import StandardScaler\n",
    "from sklearn.cluster import KMeans\n",
    "from sklearn.metrics import silhouette_score\n",
    "import matplotlib.pyplot as plt\n",
    "import seaborn as sns\n",
    "\n",
    "# Load features\n",
    "features = pd.read_csv('../data/processed/customer_features.csv')\n",
    "print('Features Loaded:')\n",
    "display(features.head())\n",
    "print('Feature Columns:', features.columns.tolist())\n"
   ]
  },
  {
   "cell_type": "markdown",
   "id": "b815bffc",
   "metadata": {},
   "source": [
    "## 2. Select High-IV Features\n",
    "\n",
    "**Short Description**: Picks features with strong predictive power. Uses IV scores from Task 3.\n",
    "\n",
    "Select WoE-transformed features with IV > 0.1 (medium/strong predictive power) for clustering.\n"
   ]
  },
  {
   "cell_type": "code",
   "execution_count": 2,
   "id": "a34719fb",
   "metadata": {
    "scrolled": true,
    "vscode": {
     "languageId": "plaintext"
    }
   },
   "outputs": [
    {
     "name": "stdout",
     "output_type": "stream",
     "text": [
      "Missing Values:\n"
     ]
    },
    {
     "data": {
      "text/plain": [
       "LogMonetary                0\n",
       "Frequency                  0\n",
       "LogAvgTransactionAmount    0\n",
       "dtype: int64"
      ]
     },
     "metadata": {},
     "output_type": "display_data"
    },
    {
     "name": "stdout",
     "output_type": "stream",
     "text": [
      "Selected Features:\n"
     ]
    },
    {
     "data": {
      "text/html": [
       "<div>\n",
       "<style scoped>\n",
       "    .dataframe tbody tr th:only-of-type {\n",
       "        vertical-align: middle;\n",
       "    }\n",
       "\n",
       "    .dataframe tbody tr th {\n",
       "        vertical-align: top;\n",
       "    }\n",
       "\n",
       "    .dataframe thead th {\n",
       "        text-align: right;\n",
       "    }\n",
       "</style>\n",
       "<table border=\"1\" class=\"dataframe\">\n",
       "  <thead>\n",
       "    <tr style=\"text-align: right;\">\n",
       "      <th></th>\n",
       "      <th>LogMonetary</th>\n",
       "      <th>Frequency</th>\n",
       "      <th>LogAvgTransactionAmount</th>\n",
       "    </tr>\n",
       "  </thead>\n",
       "  <tbody>\n",
       "    <tr>\n",
       "      <th>0</th>\n",
       "      <td>18.468423</td>\n",
       "      <td>1.0</td>\n",
       "      <td>12.936039</td>\n",
       "    </tr>\n",
       "    <tr>\n",
       "      <th>1</th>\n",
       "      <td>18.468423</td>\n",
       "      <td>1.0</td>\n",
       "      <td>12.936039</td>\n",
       "    </tr>\n",
       "    <tr>\n",
       "      <th>2</th>\n",
       "      <td>18.468709</td>\n",
       "      <td>5.0</td>\n",
       "      <td>12.969217</td>\n",
       "    </tr>\n",
       "    <tr>\n",
       "      <th>3</th>\n",
       "      <td>18.468558</td>\n",
       "      <td>11.0</td>\n",
       "      <td>12.960752</td>\n",
       "    </tr>\n",
       "    <tr>\n",
       "      <th>4</th>\n",
       "      <td>18.468709</td>\n",
       "      <td>6.0</td>\n",
       "      <td>12.967662</td>\n",
       "    </tr>\n",
       "  </tbody>\n",
       "</table>\n",
       "</div>"
      ],
      "text/plain": [
       "   LogMonetary  Frequency  LogAvgTransactionAmount\n",
       "0    18.468423        1.0                12.936039\n",
       "1    18.468423        1.0                12.936039\n",
       "2    18.468709        5.0                12.969217\n",
       "3    18.468558       11.0                12.960752\n",
       "4    18.468709        6.0                12.967662"
      ]
     },
     "metadata": {},
     "output_type": "display_data"
    }
   ],
   "source": [
    "# Select high-IV features (adjust based on Task 3 IV scores)\n",
    "high_iv_features = ['LogMonetary', 'Frequency', 'LogAvgTransactionAmount']  # Update based on cell 5 output\n",
    "cluster_data = features[high_iv_features]\n",
    "\n",
    "# Verify no missing values\n",
    "print('Missing Values:')\n",
    "display(cluster_data.isnull().sum())\n",
    "cluster_data = cluster_data.fillna(0)  # Fill any missing values\n",
    "\n",
    "print('Selected Features:')\n",
    "display(cluster_data.head())\n"
   ]
  },
  {
   "cell_type": "markdown",
   "id": "f9d959aa",
   "metadata": {},
   "source": [
    "## 3. Standardize Features\n",
    "\n",
    "**Short Description**: Scales features for clustering. Ensures equal feature contribution.\n",
    "\n",
    "Standardize features using `StandardScaler` to prepare for K-means clustering.\n"
   ]
  },
  {
   "cell_type": "code",
   "execution_count": 3,
   "id": "76bbb737",
   "metadata": {
    "vscode": {
     "languageId": "plaintext"
    }
   },
   "outputs": [
    {
     "name": "stdout",
     "output_type": "stream",
     "text": [
      "Scaled Features:\n"
     ]
    },
    {
     "data": {
      "text/html": [
       "<div>\n",
       "<style scoped>\n",
       "    .dataframe tbody tr th:only-of-type {\n",
       "        vertical-align: middle;\n",
       "    }\n",
       "\n",
       "    .dataframe tbody tr th {\n",
       "        vertical-align: top;\n",
       "    }\n",
       "\n",
       "    .dataframe thead th {\n",
       "        text-align: right;\n",
       "    }\n",
       "</style>\n",
       "<table border=\"1\" class=\"dataframe\">\n",
       "  <thead>\n",
       "    <tr style=\"text-align: right;\">\n",
       "      <th></th>\n",
       "      <th>LogMonetary</th>\n",
       "      <th>Frequency</th>\n",
       "      <th>LogAvgTransactionAmount</th>\n",
       "    </tr>\n",
       "  </thead>\n",
       "  <tbody>\n",
       "    <tr>\n",
       "      <th>0</th>\n",
       "      <td>0.009969</td>\n",
       "      <td>-0.253459</td>\n",
       "      <td>-0.182167</td>\n",
       "    </tr>\n",
       "    <tr>\n",
       "      <th>1</th>\n",
       "      <td>0.009969</td>\n",
       "      <td>-0.253459</td>\n",
       "      <td>-0.182167</td>\n",
       "    </tr>\n",
       "    <tr>\n",
       "      <th>2</th>\n",
       "      <td>0.010951</td>\n",
       "      <td>-0.212186</td>\n",
       "      <td>-0.042364</td>\n",
       "    </tr>\n",
       "    <tr>\n",
       "      <th>3</th>\n",
       "      <td>0.010435</td>\n",
       "      <td>-0.150278</td>\n",
       "      <td>-0.078030</td>\n",
       "    </tr>\n",
       "    <tr>\n",
       "      <th>4</th>\n",
       "      <td>0.010951</td>\n",
       "      <td>-0.201868</td>\n",
       "      <td>-0.048917</td>\n",
       "    </tr>\n",
       "  </tbody>\n",
       "</table>\n",
       "</div>"
      ],
      "text/plain": [
       "   LogMonetary  Frequency  LogAvgTransactionAmount\n",
       "0     0.009969  -0.253459                -0.182167\n",
       "1     0.009969  -0.253459                -0.182167\n",
       "2     0.010951  -0.212186                -0.042364\n",
       "3     0.010435  -0.150278                -0.078030\n",
       "4     0.010951  -0.201868                -0.048917"
      ]
     },
     "metadata": {},
     "output_type": "display_data"
    }
   ],
   "source": [
    "# Standardize features\n",
    "scaler = StandardScaler()\n",
    "cluster_data_scaled = scaler.fit_transform(cluster_data)\n",
    "cluster_data_scaled = pd.DataFrame(cluster_data_scaled, columns=cluster_data.columns)\n",
    "\n",
    "print('Scaled Features:')\n",
    "display(cluster_data_scaled.head())\n"
   ]
  },
  {
   "cell_type": "markdown",
   "id": "4b10a6e4",
   "metadata": {},
   "source": [
    "## 4. Apply K-means Clustering\n",
    "\n",
    "**Short Description**: Creates risk clusters. Tests different cluster numbers and evaluates quality.\n",
    "\n",
    "Apply K-means clustering for 3–5 clusters and select the best number using silhouette score.\n"
   ]
  },
  {
   "cell_type": "code",
   "execution_count": 4,
   "id": "bfa49c6a",
   "metadata": {
    "vscode": {
     "languageId": "plaintext"
    }
   },
   "outputs": [
    {
     "name": "stdout",
     "output_type": "stream",
     "text": [
      "Clusters: 3, Silhouette Score: 0.8928\n",
      "Clusters: 4, Silhouette Score: 0.8959\n",
      "Clusters: 5, Silhouette Score: 0.9021\n",
      "Best Number of Clusters: 5\n",
      "Features with Risk Cluster:\n"
     ]
    },
    {
     "data": {
      "text/html": [
       "<div>\n",
       "<style scoped>\n",
       "    .dataframe tbody tr th:only-of-type {\n",
       "        vertical-align: middle;\n",
       "    }\n",
       "\n",
       "    .dataframe tbody tr th {\n",
       "        vertical-align: top;\n",
       "    }\n",
       "\n",
       "    .dataframe thead th {\n",
       "        text-align: right;\n",
       "    }\n",
       "</style>\n",
       "<table border=\"1\" class=\"dataframe\">\n",
       "  <thead>\n",
       "    <tr style=\"text-align: right;\">\n",
       "      <th></th>\n",
       "      <th>CustomerId</th>\n",
       "      <th>RiskCluster</th>\n",
       "    </tr>\n",
       "  </thead>\n",
       "  <tbody>\n",
       "    <tr>\n",
       "      <th>0</th>\n",
       "      <td>CustomerId_1</td>\n",
       "      <td>0</td>\n",
       "    </tr>\n",
       "    <tr>\n",
       "      <th>1</th>\n",
       "      <td>CustomerId_10</td>\n",
       "      <td>0</td>\n",
       "    </tr>\n",
       "    <tr>\n",
       "      <th>2</th>\n",
       "      <td>CustomerId_1001</td>\n",
       "      <td>0</td>\n",
       "    </tr>\n",
       "    <tr>\n",
       "      <th>3</th>\n",
       "      <td>CustomerId_1002</td>\n",
       "      <td>0</td>\n",
       "    </tr>\n",
       "    <tr>\n",
       "      <th>4</th>\n",
       "      <td>CustomerId_1003</td>\n",
       "      <td>0</td>\n",
       "    </tr>\n",
       "  </tbody>\n",
       "</table>\n",
       "</div>"
      ],
      "text/plain": [
       "        CustomerId  RiskCluster\n",
       "0     CustomerId_1            0\n",
       "1    CustomerId_10            0\n",
       "2  CustomerId_1001            0\n",
       "3  CustomerId_1002            0\n",
       "4  CustomerId_1003            0"
      ]
     },
     "metadata": {},
     "output_type": "display_data"
    }
   ],
   "source": [
    "# Test different cluster numbers\n",
    "silhouette_scores = []\n",
    "for k in range(3, 6):\n",
    "    kmeans = KMeans(n_clusters=k, random_state=42)\n",
    "    labels = kmeans.fit_predict(cluster_data_scaled)\n",
    "    score = silhouette_score(cluster_data_scaled, labels)\n",
    "    silhouette_scores.append((k, score))\n",
    "    print(f'Clusters: {k}, Silhouette Score: {score:.4f}')\n",
    "\n",
    "# Select best number of clusters\n",
    "best_k = max(silhouette_scores, key=lambda x: x[1])[0]\n",
    "kmeans = KMeans(n_clusters=best_k, random_state=42)\n",
    "features['RiskCluster'] = kmeans.fit_predict(cluster_data_scaled)\n",
    "\n",
    "print(f'Best Number of Clusters: {best_k}')\n",
    "print('Features with Risk Cluster:')\n",
    "display(features[['CustomerId', 'RiskCluster']].head())\n"
   ]
  },
  {
   "cell_type": "markdown",
   "id": "82fbbf68",
   "metadata": {},
   "source": [
    "## 5. Analyze Clusters\n",
    "\n",
    "**Short Description**: Examines cluster characteristics. Links clusters to risk levels.\n",
    "\n",
    "Analyze cluster means and FraudResult distribution to assign risk levels (e.g., low, medium, high).\n"
   ]
  },
  {
   "cell_type": "code",
   "execution_count": 5,
   "id": "6e1fdec9",
   "metadata": {
    "vscode": {
     "languageId": "plaintext"
    }
   },
   "outputs": [
    {
     "name": "stdout",
     "output_type": "stream",
     "text": [
      "Cluster Characteristics:\n"
     ]
    },
    {
     "data": {
      "text/html": [
       "<div>\n",
       "<style scoped>\n",
       "    .dataframe tbody tr th:only-of-type {\n",
       "        vertical-align: middle;\n",
       "    }\n",
       "\n",
       "    .dataframe tbody tr th {\n",
       "        vertical-align: top;\n",
       "    }\n",
       "\n",
       "    .dataframe thead th {\n",
       "        text-align: right;\n",
       "    }\n",
       "</style>\n",
       "<table border=\"1\" class=\"dataframe\">\n",
       "  <thead>\n",
       "    <tr style=\"text-align: right;\">\n",
       "      <th></th>\n",
       "      <th>RiskCluster</th>\n",
       "      <th>LogMonetary</th>\n",
       "      <th>Frequency</th>\n",
       "      <th>LogAvgTransactionAmount</th>\n",
       "      <th>FraudResult</th>\n",
       "    </tr>\n",
       "  </thead>\n",
       "  <tbody>\n",
       "    <tr>\n",
       "      <th>0</th>\n",
       "      <td>0</td>\n",
       "      <td>18.469539</td>\n",
       "      <td>18.960613</td>\n",
       "      <td>12.972536</td>\n",
       "      <td>0.007112</td>\n",
       "    </tr>\n",
       "    <tr>\n",
       "      <th>1</th>\n",
       "      <td>1</td>\n",
       "      <td>0.693147</td>\n",
       "      <td>4091.000000</td>\n",
       "      <td>12.897619</td>\n",
       "      <td>0.000000</td>\n",
       "    </tr>\n",
       "    <tr>\n",
       "      <th>2</th>\n",
       "      <td>2</td>\n",
       "      <td>18.530413</td>\n",
       "      <td>11.216216</td>\n",
       "      <td>13.994947</td>\n",
       "      <td>0.648649</td>\n",
       "    </tr>\n",
       "    <tr>\n",
       "      <th>3</th>\n",
       "      <td>3</td>\n",
       "      <td>18.452179</td>\n",
       "      <td>4.000000</td>\n",
       "      <td>0.693147</td>\n",
       "      <td>1.000000</td>\n",
       "    </tr>\n",
       "    <tr>\n",
       "      <th>4</th>\n",
       "      <td>4</td>\n",
       "      <td>18.480362</td>\n",
       "      <td>464.510638</td>\n",
       "      <td>12.966688</td>\n",
       "      <td>0.063830</td>\n",
       "    </tr>\n",
       "  </tbody>\n",
       "</table>\n",
       "</div>"
      ],
      "text/plain": [
       "   RiskCluster  LogMonetary    Frequency  LogAvgTransactionAmount  FraudResult\n",
       "0            0    18.469539    18.960613                12.972536     0.007112\n",
       "1            1     0.693147  4091.000000                12.897619     0.000000\n",
       "2            2    18.530413    11.216216                13.994947     0.648649\n",
       "3            3    18.452179     4.000000                 0.693147     1.000000\n",
       "4            4    18.480362   464.510638                12.966688     0.063830"
      ]
     },
     "metadata": {},
     "output_type": "display_data"
    },
    {
     "data": {
      "image/png": "[encoded data removed]",
      "text/plain": [
       "<Figure size 800x400 with 1 Axes>"
      ]
     },
     "metadata": {},
     "output_type": "display_data"
    },
    {
     "name": "stdout",
     "output_type": "stream",
     "text": [
      "Features with Risk Level:\n"
     ]
    },
    {
     "data": {
      "text/html": [
       "<div>\n",
       "<style scoped>\n",
       "    .dataframe tbody tr th:only-of-type {\n",
       "        vertical-align: middle;\n",
       "    }\n",
       "\n",
       "    .dataframe tbody tr th {\n",
       "        vertical-align: top;\n",
       "    }\n",
       "\n",
       "    .dataframe thead th {\n",
       "        text-align: right;\n",
       "    }\n",
       "</style>\n",
       "<table border=\"1\" class=\"dataframe\">\n",
       "  <thead>\n",
       "    <tr style=\"text-align: right;\">\n",
       "      <th></th>\n",
       "      <th>CustomerId</th>\n",
       "      <th>RiskCluster</th>\n",
       "      <th>RiskLevel</th>\n",
       "    </tr>\n",
       "  </thead>\n",
       "  <tbody>\n",
       "    <tr>\n",
       "      <th>0</th>\n",
       "      <td>CustomerId_1</td>\n",
       "      <td>0</td>\n",
       "      <td>Low</td>\n",
       "    </tr>\n",
       "    <tr>\n",
       "      <th>1</th>\n",
       "      <td>CustomerId_10</td>\n",
       "      <td>0</td>\n",
       "      <td>Low</td>\n",
       "    </tr>\n",
       "    <tr>\n",
       "      <th>2</th>\n",
       "      <td>CustomerId_1001</td>\n",
       "      <td>0</td>\n",
       "      <td>Low</td>\n",
       "    </tr>\n",
       "    <tr>\n",
       "      <th>3</th>\n",
       "      <td>CustomerId_1002</td>\n",
       "      <td>0</td>\n",
       "      <td>Low</td>\n",
       "    </tr>\n",
       "    <tr>\n",
       "      <th>4</th>\n",
       "      <td>CustomerId_1003</td>\n",
       "      <td>0</td>\n",
       "      <td>Low</td>\n",
       "    </tr>\n",
       "  </tbody>\n",
       "</table>\n",
       "</div>"
      ],
      "text/plain": [
       "        CustomerId  RiskCluster RiskLevel\n",
       "0     CustomerId_1            0       Low\n",
       "1    CustomerId_10            0       Low\n",
       "2  CustomerId_1001            0       Low\n",
       "3  CustomerId_1002            0       Low\n",
       "4  CustomerId_1003            0       Low"
      ]
     },
     "metadata": {},
     "output_type": "display_data"
    }
   ],
   "source": [
    "# Analyze cluster characteristics\n",
    "cluster_summary = features.groupby('RiskCluster')[high_iv_features + ['FraudResult']].mean().reset_index()\n",
    "print('Cluster Characteristics:')\n",
    "display(cluster_summary)\n",
    "\n",
    "# Plot FraudResult distribution by cluster\n",
    "plt.figure(figsize=(8, 4))\n",
    "sns.barplot(data=features, x='RiskCluster', y='FraudResult', errorbar=None)\n",
    "plt.title('FraudResult Proportion by Risk Cluster')\n",
    "plt.xlabel('Risk Cluster')\n",
    "plt.ylabel('FraudResult Proportion')\n",
    "plt.show()\n",
    "\n",
    "# Assign risk levels (example: based on FraudResult mean)\n",
    "risk_mapping = {0: 'Low', 1: 'Medium', 2: 'High'}  # Adjust based on cluster_summary\n",
    "features['RiskLevel'] = features['RiskCluster'].map(risk_mapping)\n",
    "print('Features with Risk Level:')\n",
    "display(features[['CustomerId', 'RiskCluster', 'RiskLevel']].head())\n"
   ]
  },
  {
   "cell_type": "markdown",
   "id": "16b587b2",
   "metadata": {},
   "source": [
    "## 6. Save Features with Proxy\n",
    "\n",
    "**Short Description**: Saves dataset with proxy variable. Prepares for modeling.\n",
    "\n",
    "Save the dataset with the `RiskCluster` and `RiskLevel` proxy variables.\n"
   ]
  },
  {
   "cell_type": "code",
   "execution_count": 6,
   "id": "27b4ca59",
   "metadata": {
    "vscode": {
     "languageId": "plaintext"
    }
   },
   "outputs": [
    {
     "name": "stdout",
     "output_type": "stream",
     "text": [
      "Features saved to ../data/processed/customer_features_with_proxy.csv\n"
     ]
    }
   ],
   "source": [
    "# Save features with proxy variable\n",
    "features.to_csv('../data/processed/customer_features_with_proxy.csv', index=False)\n",
    "print('Features saved to ../data/processed/customer_features_with_proxy.csv')\n"
   ]
  },
  {
   "cell_type": "markdown",
   "id": "776433c6",
   "metadata": {},
   "source": [
    "## 7. Key Findings\n",
    "\n",
    "**Short Description**: Summarizes clustering results. Guides modeling in Task 5.\n",
    "\n",
    "Summarize insights from clustering to guide Task 5:\n",
    "- Created `RiskCluster` proxy using K-means on high-IV features.\n",
    "- Best number of clusters: [best_k], based on silhouette score.\n",
    "- Cluster characteristics show [e.g., high FraudResult in cluster X, low in cluster Y].\n",
    "- `RiskLevel` assigned as low/medium/high based on FraudResult.\n",
    "- Next: Use `RiskCluster` or `RiskLevel` as target in Task 5 modeling.\n"
   ]
  }
 ],
 "metadata": {
  "kernelspec": {
   "display_name": "Python 3 (ipykernel)",
   "language": "python",
   "name": "python3"
  },
  "language_info": {
   "codemirror_mode": {
    "name": "ipython",
    "version": 3
   },
   "file_extension": ".py",
   "mimetype": "text/x-python",
   "name": "python",
   "nbconvert_exporter": "python",
   "pygments_lexer": "ipython3",
   "version": "3.13.3"
  }
 },
 "nbformat": 4,
 "nbformat_minor": 5
}
